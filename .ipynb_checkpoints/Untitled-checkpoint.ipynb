{
 "cells": [
  {
   "cell_type": "code",
   "execution_count": null,
   "id": "2ce976fd-26bd-48d6-b18c-fd7805e3e637",
   "metadata": {},
   "outputs": [
    {
     "name": "stdout",
     "output_type": "stream",
     "text": [
      "starting ...\n",
      "init matcher ...\n"
     ]
    },
    {
     "name": "stderr",
     "output_type": "stream",
     "text": [
      " * Running on http://localhost:3000/ (Press CTRL+C to quit)\n",
      "127.0.0.1 - - [07/Jun/2022 22:13:35] \"GET / HTTP/1.1\" 200 -\n",
      "127.0.0.1 - - [07/Jun/2022 22:13:36] \"GET / HTTP/1.1\" 200 -\n"
     ]
    },
    {
     "name": "stdout",
     "output_type": "stream",
     "text": [
      "test\n",
      "init matcher ...\n"
     ]
    },
    {
     "name": "stderr",
     "output_type": "stream",
     "text": [
      "127.0.0.1 - - [07/Jun/2022 22:13:46] \"POST /search HTTP/1.1\" 200 -\n"
     ]
    },
    {
     "name": "stdout",
     "output_type": "stream",
     "text": [
      "ts\n",
      "init matcher ...\n"
     ]
    },
    {
     "name": "stderr",
     "output_type": "stream",
     "text": [
      "127.0.0.1 - - [07/Jun/2022 22:13:59] \"POST /search HTTP/1.1\" 200 -\n"
     ]
    },
    {
     "name": "stdout",
     "output_type": "stream",
     "text": [
      "shit ff ks\n",
      "init matcher ...\n"
     ]
    },
    {
     "name": "stderr",
     "output_type": "stream",
     "text": [
      "127.0.0.1 - - [07/Jun/2022 22:14:19] \"POST /search HTTP/1.1\" 200 -\n"
     ]
    },
    {
     "name": "stdout",
     "output_type": "stream",
     "text": [
      "Query spell checker: shit not in vocabulary\n",
      "Query spell checker: ff not in vocabulary\n"
     ]
    }
   ],
   "source": [
    "# %run main.py\n",
    "# vocabulary\n",
    "%run evaluation/merge_queries_relevance.py\n",
    "# import gensim"
   ]
  },
  {
   "cell_type": "code",
   "execution_count": null,
   "id": "5000f9e8-e57b-413f-8efc-d038ff6881d6",
   "metadata": {},
   "outputs": [],
   "source": []
  },
  {
   "cell_type": "code",
   "execution_count": null,
   "id": "842dfb5e-9a13-4e19-97a1-fae63646cb26",
   "metadata": {},
   "outputs": [],
   "source": []
  },
  {
   "cell_type": "code",
   "execution_count": null,
   "id": "33d2d864-5ad3-4ff5-9bce-4a3155decdfa",
   "metadata": {},
   "outputs": [],
   "source": []
  }
 ],
 "metadata": {
  "kernelspec": {
   "display_name": "Python 3 (ipykernel)",
   "language": "python",
   "name": "python3"
  },
  "language_info": {
   "codemirror_mode": {
    "name": "ipython",
    "version": 3
   },
   "file_extension": ".py",
   "mimetype": "text/x-python",
   "name": "python",
   "nbconvert_exporter": "python",
   "pygments_lexer": "ipython3",
   "version": "3.9.7"
  }
 },
 "nbformat": 4,
 "nbformat_minor": 5
}
